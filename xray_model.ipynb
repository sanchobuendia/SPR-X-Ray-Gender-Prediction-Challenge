{
  "cells": [
    {
      "cell_type": "code",
      "execution_count": 1,
      "metadata": {
        "id": "XQe_NTuSCABB"
      },
      "outputs": [],
      "source": [
        "import re\n",
        "import os\n",
        "import random\n",
        "import numpy as np\n",
        "import pandas as pd\n",
        "import tensorflow as tf\n",
        "import matplotlib.pyplot as plt\n",
        "\n",
        "#try:\n",
        "#    tpu = tf.distribute.cluster_resolver.TPUClusterResolver.connect()\n",
        "#    print(\"Device:\", tpu.master())\n",
        "#    strategy = tf.distribute.TPUStrategy(tpu)\n",
        "#except:\n",
        "#    strategy = tf.distribute.get_strategy()\n",
        "#print(\"Number of replicas:\", strategy.num_replicas_in_sync)"
      ]
    },
    {
      "cell_type": "code",
      "source": [
        "strategy = tf.test.gpu_device_name()\n",
        "if len(strategy) > 0:\n",
        "    print(\"Found GPU at: {}\".format(strategy))\n",
        "else:\n",
        "    strategy = \"/device:CPU:0\"\n",
        "    print(\"No GPU, using {}.\".format(strategy))"
      ],
      "metadata": {
        "id": "_sCriHvfiGOf",
        "colab": {
          "base_uri": "https://localhost:8080/"
        },
        "outputId": "6bab605a-ba31-4f7e-cabb-0f250b4f6558"
      },
      "execution_count": 2,
      "outputs": [
        {
          "output_type": "stream",
          "name": "stdout",
          "text": [
            "Found GPU at: /device:GPU:0\n"
          ]
        }
      ]
    },
    {
      "cell_type": "code",
      "source": [
        "gpu_info = !nvidia-smi\n",
        "gpu_info = '\\n'.join(gpu_info)\n",
        "if gpu_info.find('failed') >= 0:\n",
        "  print('Not connected to a GPU')\n",
        "else:\n",
        "  print(gpu_info)"
      ],
      "metadata": {
        "colab": {
          "base_uri": "https://localhost:8080/"
        },
        "id": "OsFruE04KfBK",
        "outputId": "8e1f7f0b-99d5-418b-cb16-5e5775a86776"
      },
      "execution_count": 3,
      "outputs": [
        {
          "output_type": "stream",
          "name": "stdout",
          "text": [
            "Mon Mar 20 00:58:35 2023       \n",
            "+-----------------------------------------------------------------------------+\n",
            "| NVIDIA-SMI 525.85.12    Driver Version: 525.85.12    CUDA Version: 12.0     |\n",
            "|-------------------------------+----------------------+----------------------+\n",
            "| GPU  Name        Persistence-M| Bus-Id        Disp.A | Volatile Uncorr. ECC |\n",
            "| Fan  Temp  Perf  Pwr:Usage/Cap|         Memory-Usage | GPU-Util  Compute M. |\n",
            "|                               |                      |               MIG M. |\n",
            "|===============================+======================+======================|\n",
            "|   0  NVIDIA A100-SXM...  Off  | 00000000:00:04.0 Off |                    0 |\n",
            "| N/A   30C    P0    52W / 400W |    659MiB / 40960MiB |      1%      Default |\n",
            "|                               |                      |             Disabled |\n",
            "+-------------------------------+----------------------+----------------------+\n",
            "                                                                               \n",
            "+-----------------------------------------------------------------------------+\n",
            "| Processes:                                                                  |\n",
            "|  GPU   GI   CI        PID   Type   Process name                  GPU Memory |\n",
            "|        ID   ID                                                   Usage      |\n",
            "|=============================================================================|\n",
            "+-----------------------------------------------------------------------------+\n"
          ]
        }
      ]
    },
    {
      "cell_type": "code",
      "execution_count": 4,
      "metadata": {
        "id": "jR6VZEEqCPNZ"
      },
      "outputs": [],
      "source": [
        "batch_size = 32\n",
        "img_height = 180\n",
        "img_width = 180"
      ]
    },
    {
      "cell_type": "code",
      "execution_count": 5,
      "metadata": {
        "id": "HIdhmXhdDFtD",
        "colab": {
          "base_uri": "https://localhost:8080/"
        },
        "outputId": "4042cb2b-e663-4824-eb8d-874baf1ce3c6"
      },
      "outputs": [
        {
          "output_type": "stream",
          "name": "stdout",
          "text": [
            "Mounted at /content/gdrive\n"
          ]
        }
      ],
      "source": [
        "from google.colab import drive\n",
        "drive.mount('/content/gdrive')"
      ]
    },
    {
      "cell_type": "code",
      "execution_count": 6,
      "metadata": {
        "id": "erkLkucpCPPk",
        "colab": {
          "base_uri": "https://localhost:8080/"
        },
        "outputId": "fbc8794d-2f72-455b-a4ca-4bebbf890e6f"
      },
      "outputs": [
        {
          "output_type": "stream",
          "name": "stdout",
          "text": [
            "Found 10702 files belonging to 2 classes.\n",
            "Using 8562 files for training.\n",
            "Found 10702 files belonging to 2 classes.\n",
            "Using 2140 files for validation.\n"
          ]
        }
      ],
      "source": [
        "train_ds = tf.keras.utils.image_dataset_from_directory(\"/content/gdrive/MyDrive/xray\",\n",
        "                                                      validation_split=0.2,\n",
        "                                                      subset=\"training\",   \n",
        "                                                      seed=123,\n",
        "                                                      image_size=(img_height, img_width),\n",
        "                                                      batch_size=batch_size\n",
        "                                                        )\n",
        "\n",
        "val_ds = tf.keras.utils.image_dataset_from_directory(\"/content/gdrive/MyDrive/xray\",\n",
        "                                                      validation_split=0.2,\n",
        "                                                      subset=\"validation\",     \n",
        "                                                      seed=123,\n",
        "                                                      image_size=(img_height, img_width),\n",
        "                                                      batch_size=batch_size\n",
        "                                                        )\n"
      ]
    },
    {
      "cell_type": "code",
      "source": [],
      "metadata": {
        "id": "gRvOT9l3X4YT"
      },
      "execution_count": 6,
      "outputs": []
    },
    {
      "cell_type": "code",
      "execution_count": 7,
      "metadata": {
        "id": "xKAaXno7CPao"
      },
      "outputs": [],
      "source": [
        "AUTOTUNE = tf.data.AUTOTUNE\n",
        "\n",
        "test_ds = val_ds.take(10) \n",
        "val_ds = val_ds.skip(10)\n",
        "\n",
        "train_ds = train_ds.cache().prefetch(buffer_size=AUTOTUNE)\n",
        "val_ds = val_ds.cache().prefetch(buffer_size=AUTOTUNE)\n",
        "test_ds = test_ds.cache().prefetch(buffer_size=AUTOTUNE)\n",
        "\n"
      ]
    },
    {
      "cell_type": "code",
      "execution_count": 8,
      "metadata": {
        "id": "Ac7g5r0ICPeK"
      },
      "outputs": [],
      "source": [
        "# Gender Classification on TPU"
      ]
    },
    {
      "cell_type": "code",
      "execution_count": 9,
      "metadata": {
        "id": "DOI-k0PxChp1"
      },
      "outputs": [],
      "source": [
        "AUTOTUNE = tf.data.AUTOTUNE\n",
        "BATCH_SIZE = 32\n",
        "IMAGE_SIZE = [180, 180]\n",
        "#CLASS_NAMES = [\"NORMAL\", \"PNEUMONIA\"]"
      ]
    },
    {
      "cell_type": "code",
      "execution_count": 10,
      "metadata": {
        "id": "IwYUJSQEChsF"
      },
      "outputs": [],
      "source": [
        "## Build the CNN"
      ]
    },
    {
      "cell_type": "code",
      "execution_count": 11,
      "metadata": {
        "id": "OJ0tfsyVChuZ"
      },
      "outputs": [],
      "source": [
        "from tensorflow import keras\n",
        "from tensorflow.keras import layers\n",
        "\n",
        "\n",
        "def conv_block(filters, inputs):\n",
        "    x = layers.SeparableConv2D(filters, 3, activation=\"relu\", padding=\"same\")(inputs)\n",
        "    x = layers.SeparableConv2D(filters, 3, activation=\"relu\", padding=\"same\")(x)\n",
        "    x = layers.BatchNormalization()(x)\n",
        "    outputs = layers.MaxPool2D()(x)\n",
        "\n",
        "    return outputs\n",
        "\n",
        "\n",
        "def dense_block(units, dropout_rate, inputs):\n",
        "    x = layers.Dense(units, activation=\"relu\")(inputs)\n",
        "    x = layers.BatchNormalization()(x)\n",
        "    outputs = layers.Dropout(dropout_rate)(x)\n",
        "\n",
        "    return outputs"
      ]
    },
    {
      "cell_type": "code",
      "execution_count": 12,
      "metadata": {
        "id": "ynquay7UChwe"
      },
      "outputs": [],
      "source": [
        "def build_model():\n",
        "    inputs = keras.Input(shape=(IMAGE_SIZE[0], IMAGE_SIZE[1], 3))\n",
        "    x = layers.Rescaling(1.0 / 255)(inputs)\n",
        "    x = layers.Conv2D(16, 3, activation=\"relu\", padding=\"same\")(x)\n",
        "    x = layers.Conv2D(16, 3, activation=\"relu\", padding=\"same\")(x)\n",
        "    x = layers.MaxPool2D()(x)\n",
        "\n",
        "    x = conv_block(32, x)\n",
        "    x = conv_block(64, x)\n",
        "\n",
        "    x = conv_block(128, x)\n",
        "    x = layers.Dropout(0.2)(x)\n",
        "\n",
        "    x = conv_block(256, x)\n",
        "    x = layers.Dropout(0.2)(x)\n",
        "\n",
        "    x = layers.Flatten()(x)\n",
        "    x = dense_block(512, 0.7, x)\n",
        "    x = dense_block(128, 0.5, x)\n",
        "    x = dense_block(64, 0.3, x)\n",
        "\n",
        "    outputs = layers.Dense(1, activation=\"sigmoid\")(x)\n",
        "\n",
        "    model = keras.Model(inputs=inputs, outputs=outputs)\n",
        "    return model"
      ]
    },
    {
      "cell_type": "code",
      "execution_count": 13,
      "metadata": {
        "id": "DUtZBY3NChyy"
      },
      "outputs": [],
      "source": [
        "## Train the model"
      ]
    },
    {
      "cell_type": "code",
      "execution_count": 14,
      "metadata": {
        "id": "UCLb92wNCh08"
      },
      "outputs": [],
      "source": [
        "### Defining callbacks"
      ]
    },
    {
      "cell_type": "code",
      "execution_count": 15,
      "metadata": {
        "id": "y977PfGVCh3P"
      },
      "outputs": [],
      "source": [
        "checkpoint_cb = tf.keras.callbacks.ModelCheckpoint(\"xray_model.h5\", save_best_only=True)\n",
        "\n",
        "early_stopping_cb = tf.keras.callbacks.EarlyStopping(patience=35, restore_best_weights=True)"
      ]
    },
    {
      "cell_type": "code",
      "execution_count": 16,
      "metadata": {
        "id": "3N5zZswBCh61"
      },
      "outputs": [],
      "source": [
        "initial_learning_rate = 0.015\n",
        "lr_schedule = tf.keras.optimizers.schedules.ExponentialDecay(initial_learning_rate, decay_steps=100000, decay_rate=0.96, staircase=True)"
      ]
    },
    {
      "cell_type": "code",
      "execution_count": 17,
      "metadata": {
        "id": "RqZELY63CGvI"
      },
      "outputs": [],
      "source": [
        "### Fit the model"
      ]
    },
    {
      "cell_type": "code",
      "execution_count": 18,
      "metadata": {
        "id": "TwDoNXC0C21z",
        "colab": {
          "base_uri": "https://localhost:8080/"
        },
        "outputId": "6ebaada0-07db-45e8-80a3-6de124a46b99"
      },
      "outputs": [
        {
          "output_type": "stream",
          "name": "stdout",
          "text": [
            "Epoch 1/100\n",
            "268/268 [==============================] - 302s 763ms/step - loss: 0.5533 - AUC: 0.7868 - val_loss: 0.9656 - val_AUC: 0.7576\n",
            "Epoch 2/100\n",
            "268/268 [==============================] - 7s 26ms/step - loss: 0.4074 - AUC: 0.8922 - val_loss: 0.6865 - val_AUC: 0.8960\n",
            "Epoch 3/100\n",
            "268/268 [==============================] - 7s 25ms/step - loss: 0.3322 - AUC: 0.9306 - val_loss: 0.7729 - val_AUC: 0.8617\n",
            "Epoch 4/100\n",
            "268/268 [==============================] - 7s 26ms/step - loss: 0.3104 - AUC: 0.9393 - val_loss: 0.6385 - val_AUC: 0.8479\n",
            "Epoch 5/100\n",
            "268/268 [==============================] - 7s 26ms/step - loss: 0.2989 - AUC: 0.9442 - val_loss: 0.2298 - val_AUC: 0.9672\n",
            "Epoch 6/100\n",
            "268/268 [==============================] - 7s 25ms/step - loss: 0.2389 - AUC: 0.9640 - val_loss: 0.2672 - val_AUC: 0.9627\n",
            "Epoch 7/100\n",
            "268/268 [==============================] - 7s 26ms/step - loss: 0.2460 - AUC: 0.9619 - val_loss: 0.5590 - val_AUC: 0.9430\n",
            "Epoch 8/100\n",
            "268/268 [==============================] - 7s 26ms/step - loss: 0.2177 - AUC: 0.9697 - val_loss: 0.2212 - val_AUC: 0.9710\n",
            "Epoch 9/100\n",
            "268/268 [==============================] - 7s 26ms/step - loss: 0.2059 - AUC: 0.9726 - val_loss: 0.2844 - val_AUC: 0.9704\n",
            "Epoch 10/100\n",
            "268/268 [==============================] - 7s 25ms/step - loss: 0.2121 - AUC: 0.9714 - val_loss: 0.6950 - val_AUC: 0.7031\n",
            "Epoch 11/100\n",
            "268/268 [==============================] - 7s 25ms/step - loss: 0.2645 - AUC: 0.9558 - val_loss: 0.2241 - val_AUC: 0.9706\n",
            "Epoch 12/100\n",
            "268/268 [==============================] - 7s 25ms/step - loss: 0.2520 - AUC: 0.9599 - val_loss: 0.2679 - val_AUC: 0.9645\n",
            "Epoch 13/100\n",
            "268/268 [==============================] - 7s 25ms/step - loss: 0.2227 - AUC: 0.9684 - val_loss: 0.3017 - val_AUC: 0.9742\n",
            "Epoch 14/100\n",
            "268/268 [==============================] - 7s 25ms/step - loss: 0.2215 - AUC: 0.9688 - val_loss: 0.2462 - val_AUC: 0.9739\n",
            "Epoch 15/100\n",
            "268/268 [==============================] - 7s 25ms/step - loss: 0.1942 - AUC: 0.9758 - val_loss: 0.2605 - val_AUC: 0.9756\n",
            "Epoch 16/100\n",
            "268/268 [==============================] - 7s 26ms/step - loss: 0.1827 - AUC: 0.9777 - val_loss: 0.2123 - val_AUC: 0.9703\n",
            "Epoch 17/100\n",
            "268/268 [==============================] - 7s 26ms/step - loss: 0.1747 - AUC: 0.9793 - val_loss: 0.1911 - val_AUC: 0.9764\n",
            "Epoch 18/100\n",
            "268/268 [==============================] - 7s 25ms/step - loss: 0.1715 - AUC: 0.9799 - val_loss: 0.2140 - val_AUC: 0.9725\n",
            "Epoch 19/100\n",
            "268/268 [==============================] - 7s 25ms/step - loss: 0.1673 - AUC: 0.9803 - val_loss: 0.2293 - val_AUC: 0.9666\n",
            "Epoch 20/100\n",
            "268/268 [==============================] - 7s 25ms/step - loss: 0.1624 - AUC: 0.9817 - val_loss: 0.1989 - val_AUC: 0.9807\n",
            "Epoch 21/100\n",
            "268/268 [==============================] - 7s 25ms/step - loss: 0.1860 - AUC: 0.9771 - val_loss: 0.2195 - val_AUC: 0.9716\n",
            "Epoch 22/100\n",
            "268/268 [==============================] - 7s 25ms/step - loss: 0.1725 - AUC: 0.9803 - val_loss: 0.3456 - val_AUC: 0.9749\n",
            "Epoch 23/100\n",
            "268/268 [==============================] - 7s 25ms/step - loss: 0.1527 - AUC: 0.9833 - val_loss: 0.1965 - val_AUC: 0.9809\n",
            "Epoch 24/100\n",
            "268/268 [==============================] - 7s 26ms/step - loss: 0.1802 - AUC: 0.9780 - val_loss: 0.1863 - val_AUC: 0.9792\n",
            "Epoch 25/100\n",
            "268/268 [==============================] - 7s 26ms/step - loss: 0.1416 - AUC: 0.9858 - val_loss: 0.1749 - val_AUC: 0.9828\n",
            "Epoch 26/100\n",
            "268/268 [==============================] - 7s 25ms/step - loss: 0.1347 - AUC: 0.9866 - val_loss: 0.7400 - val_AUC: 0.9614\n",
            "Epoch 27/100\n",
            "268/268 [==============================] - 7s 25ms/step - loss: 0.1371 - AUC: 0.9866 - val_loss: 0.3909 - val_AUC: 0.9691\n",
            "Epoch 28/100\n",
            "268/268 [==============================] - 7s 25ms/step - loss: 0.1389 - AUC: 0.9861 - val_loss: 0.3567 - val_AUC: 0.9741\n",
            "Epoch 29/100\n",
            "268/268 [==============================] - 7s 25ms/step - loss: 0.1218 - AUC: 0.9884 - val_loss: 0.4607 - val_AUC: 0.9770\n",
            "Epoch 30/100\n",
            "268/268 [==============================] - 7s 25ms/step - loss: 0.1164 - AUC: 0.9896 - val_loss: 0.2511 - val_AUC: 0.9662\n",
            "Epoch 31/100\n",
            "268/268 [==============================] - 7s 25ms/step - loss: 0.1592 - AUC: 0.9822 - val_loss: 0.2543 - val_AUC: 0.9786\n",
            "Epoch 32/100\n",
            "268/268 [==============================] - 7s 26ms/step - loss: 0.1246 - AUC: 0.9885 - val_loss: 0.1714 - val_AUC: 0.9817\n",
            "Epoch 33/100\n",
            "268/268 [==============================] - 7s 25ms/step - loss: 0.1024 - AUC: 0.9919 - val_loss: 0.5316 - val_AUC: 0.9652\n",
            "Epoch 34/100\n",
            "268/268 [==============================] - 7s 25ms/step - loss: 0.1081 - AUC: 0.9907 - val_loss: 0.2664 - val_AUC: 0.9808\n",
            "Epoch 35/100\n",
            "268/268 [==============================] - 7s 25ms/step - loss: 0.1222 - AUC: 0.9883 - val_loss: 0.2170 - val_AUC: 0.9810\n",
            "Epoch 36/100\n",
            "268/268 [==============================] - 7s 25ms/step - loss: 0.1212 - AUC: 0.9892 - val_loss: 0.1966 - val_AUC: 0.9825\n",
            "Epoch 37/100\n",
            "268/268 [==============================] - 7s 25ms/step - loss: 0.1207 - AUC: 0.9892 - val_loss: 0.3755 - val_AUC: 0.9471\n",
            "Epoch 38/100\n",
            "268/268 [==============================] - 7s 25ms/step - loss: 0.1266 - AUC: 0.9885 - val_loss: 0.7580 - val_AUC: 0.9541\n",
            "Epoch 39/100\n",
            "268/268 [==============================] - 7s 25ms/step - loss: 0.1132 - AUC: 0.9905 - val_loss: 0.3573 - val_AUC: 0.9801\n",
            "Epoch 40/100\n",
            "268/268 [==============================] - 7s 26ms/step - loss: 0.1073 - AUC: 0.9910 - val_loss: 0.1655 - val_AUC: 0.9838\n",
            "Epoch 41/100\n",
            "268/268 [==============================] - 7s 25ms/step - loss: 0.0905 - AUC: 0.9932 - val_loss: 0.2034 - val_AUC: 0.9814\n",
            "Epoch 42/100\n",
            "268/268 [==============================] - 7s 25ms/step - loss: 0.1797 - AUC: 0.9786 - val_loss: 0.2157 - val_AUC: 0.9755\n",
            "Epoch 43/100\n",
            "268/268 [==============================] - 7s 25ms/step - loss: 0.1187 - AUC: 0.9896 - val_loss: 0.1799 - val_AUC: 0.9806\n",
            "Epoch 44/100\n",
            "268/268 [==============================] - 7s 25ms/step - loss: 0.1341 - AUC: 0.9871 - val_loss: 0.1765 - val_AUC: 0.9819\n",
            "Epoch 45/100\n",
            "268/268 [==============================] - 7s 25ms/step - loss: 0.0962 - AUC: 0.9924 - val_loss: 0.1721 - val_AUC: 0.9820\n",
            "Epoch 46/100\n",
            "268/268 [==============================] - 7s 25ms/step - loss: 0.1670 - AUC: 0.9820 - val_loss: 0.1763 - val_AUC: 0.9802\n",
            "Epoch 47/100\n",
            "268/268 [==============================] - 7s 25ms/step - loss: 0.1124 - AUC: 0.9907 - val_loss: 0.1678 - val_AUC: 0.9841\n",
            "Epoch 48/100\n",
            "268/268 [==============================] - 7s 25ms/step - loss: 0.0932 - AUC: 0.9929 - val_loss: 0.1707 - val_AUC: 0.9833\n",
            "Epoch 49/100\n",
            "268/268 [==============================] - 7s 25ms/step - loss: 0.1794 - AUC: 0.9791 - val_loss: 0.2635 - val_AUC: 0.9739\n",
            "Epoch 50/100\n",
            "268/268 [==============================] - 7s 25ms/step - loss: 0.1377 - AUC: 0.9876 - val_loss: 0.1678 - val_AUC: 0.9835\n",
            "Epoch 51/100\n",
            "268/268 [==============================] - 7s 25ms/step - loss: 0.1066 - AUC: 0.9910 - val_loss: 0.1752 - val_AUC: 0.9829\n",
            "Epoch 52/100\n",
            "268/268 [==============================] - 7s 25ms/step - loss: 0.1025 - AUC: 0.9919 - val_loss: 0.1910 - val_AUC: 0.9817\n",
            "Epoch 53/100\n",
            "268/268 [==============================] - 7s 25ms/step - loss: 0.0964 - AUC: 0.9926 - val_loss: 0.1867 - val_AUC: 0.9838\n",
            "Epoch 54/100\n",
            "268/268 [==============================] - 7s 25ms/step - loss: 0.1068 - AUC: 0.9911 - val_loss: 0.1829 - val_AUC: 0.9815\n",
            "Epoch 55/100\n",
            "268/268 [==============================] - 7s 25ms/step - loss: 0.0860 - AUC: 0.9935 - val_loss: 0.3348 - val_AUC: 0.9489\n",
            "Epoch 56/100\n",
            "268/268 [==============================] - 7s 25ms/step - loss: 0.1207 - AUC: 0.9895 - val_loss: 0.2481 - val_AUC: 0.9750\n",
            "Epoch 57/100\n",
            "268/268 [==============================] - 7s 25ms/step - loss: 0.0881 - AUC: 0.9939 - val_loss: 0.1791 - val_AUC: 0.9822\n",
            "Epoch 58/100\n",
            "268/268 [==============================] - 7s 25ms/step - loss: 0.0832 - AUC: 0.9942 - val_loss: 0.1827 - val_AUC: 0.9825\n",
            "Epoch 59/100\n",
            "268/268 [==============================] - 7s 25ms/step - loss: 0.0704 - AUC: 0.9951 - val_loss: 0.2341 - val_AUC: 0.9815\n",
            "Epoch 60/100\n",
            "268/268 [==============================] - 7s 25ms/step - loss: 0.1205 - AUC: 0.9899 - val_loss: 0.6266 - val_AUC: 0.7789\n",
            "Epoch 61/100\n",
            "268/268 [==============================] - 7s 25ms/step - loss: 0.2479 - AUC: 0.9619 - val_loss: 0.2490 - val_AUC: 0.9711\n",
            "Epoch 62/100\n",
            "268/268 [==============================] - 7s 26ms/step - loss: 0.1612 - AUC: 0.9834 - val_loss: 0.1646 - val_AUC: 0.9838\n",
            "Epoch 63/100\n",
            "268/268 [==============================] - 7s 25ms/step - loss: 0.1096 - AUC: 0.9914 - val_loss: 0.2038 - val_AUC: 0.9823\n",
            "Epoch 64/100\n",
            "268/268 [==============================] - 7s 25ms/step - loss: 0.0932 - AUC: 0.9933 - val_loss: 0.2502 - val_AUC: 0.9828\n",
            "Epoch 65/100\n",
            "268/268 [==============================] - 7s 25ms/step - loss: 0.1241 - AUC: 0.9892 - val_loss: 0.1925 - val_AUC: 0.9783\n",
            "Epoch 66/100\n",
            "268/268 [==============================] - 7s 25ms/step - loss: 0.0865 - AUC: 0.9940 - val_loss: 0.4162 - val_AUC: 0.9829\n",
            "Epoch 67/100\n",
            "268/268 [==============================] - 7s 25ms/step - loss: 0.0709 - AUC: 0.9957 - val_loss: 0.2566 - val_AUC: 0.9827\n",
            "Epoch 68/100\n",
            "268/268 [==============================] - 7s 25ms/step - loss: 0.0681 - AUC: 0.9958 - val_loss: 0.1987 - val_AUC: 0.9789\n",
            "Epoch 69/100\n",
            "268/268 [==============================] - 7s 25ms/step - loss: 0.0559 - AUC: 0.9972 - val_loss: 0.2106 - val_AUC: 0.9785\n",
            "Epoch 70/100\n",
            "268/268 [==============================] - 7s 25ms/step - loss: 0.0530 - AUC: 0.9970 - val_loss: 0.2844 - val_AUC: 0.9755\n",
            "Epoch 71/100\n",
            "268/268 [==============================] - 7s 25ms/step - loss: 0.0593 - AUC: 0.9970 - val_loss: 0.2050 - val_AUC: 0.9800\n",
            "Epoch 72/100\n",
            "268/268 [==============================] - 7s 25ms/step - loss: 0.0476 - AUC: 0.9977 - val_loss: 0.2259 - val_AUC: 0.9793\n",
            "Epoch 73/100\n",
            "268/268 [==============================] - 7s 25ms/step - loss: 0.0896 - AUC: 0.9934 - val_loss: 0.2571 - val_AUC: 0.9798\n",
            "Epoch 74/100\n",
            "268/268 [==============================] - 7s 25ms/step - loss: 0.0650 - AUC: 0.9966 - val_loss: 0.2200 - val_AUC: 0.9787\n",
            "Epoch 75/100\n",
            "268/268 [==============================] - 7s 25ms/step - loss: 0.0549 - AUC: 0.9965 - val_loss: 0.3439 - val_AUC: 0.9761\n",
            "Epoch 76/100\n",
            "268/268 [==============================] - 7s 25ms/step - loss: 0.0512 - AUC: 0.9979 - val_loss: 0.2494 - val_AUC: 0.9725\n",
            "Epoch 77/100\n",
            "268/268 [==============================] - 7s 25ms/step - loss: 0.0804 - AUC: 0.9949 - val_loss: 0.2197 - val_AUC: 0.9801\n",
            "Epoch 78/100\n",
            "268/268 [==============================] - 7s 25ms/step - loss: 0.0775 - AUC: 0.9950 - val_loss: 0.2437 - val_AUC: 0.9766\n",
            "Epoch 79/100\n",
            "268/268 [==============================] - 7s 25ms/step - loss: 0.0929 - AUC: 0.9928 - val_loss: 0.2643 - val_AUC: 0.9793\n",
            "Epoch 80/100\n",
            "268/268 [==============================] - 7s 25ms/step - loss: 0.0894 - AUC: 0.9937 - val_loss: 0.2451 - val_AUC: 0.9793\n",
            "Epoch 81/100\n",
            "268/268 [==============================] - 7s 25ms/step - loss: 0.0604 - AUC: 0.9964 - val_loss: 0.2265 - val_AUC: 0.9781\n",
            "Epoch 82/100\n",
            "268/268 [==============================] - 7s 25ms/step - loss: 0.0501 - AUC: 0.9974 - val_loss: 0.2383 - val_AUC: 0.9796\n",
            "Epoch 83/100\n",
            "268/268 [==============================] - 7s 25ms/step - loss: 0.0334 - AUC: 0.9987 - val_loss: 0.2475 - val_AUC: 0.9744\n",
            "Epoch 84/100\n",
            "268/268 [==============================] - 7s 25ms/step - loss: 0.0356 - AUC: 0.9983 - val_loss: 0.3076 - val_AUC: 0.9712\n",
            "Epoch 85/100\n",
            "268/268 [==============================] - 7s 26ms/step - loss: 0.0394 - AUC: 0.9985 - val_loss: 0.4013 - val_AUC: 0.9681\n",
            "Epoch 86/100\n",
            "268/268 [==============================] - 7s 25ms/step - loss: 0.0412 - AUC: 0.9985 - val_loss: 0.2256 - val_AUC: 0.9799\n",
            "Epoch 87/100\n",
            "268/268 [==============================] - 7s 25ms/step - loss: 0.0341 - AUC: 0.9985 - val_loss: 0.2371 - val_AUC: 0.9794\n",
            "Epoch 88/100\n",
            "268/268 [==============================] - 7s 25ms/step - loss: 0.0318 - AUC: 0.9987 - val_loss: 0.2612 - val_AUC: 0.9762\n",
            "Epoch 89/100\n",
            "268/268 [==============================] - 7s 25ms/step - loss: 0.0351 - AUC: 0.9986 - val_loss: 0.2514 - val_AUC: 0.9751\n",
            "Epoch 90/100\n",
            "268/268 [==============================] - 7s 25ms/step - loss: 0.0389 - AUC: 0.9984 - val_loss: 0.3743 - val_AUC: 0.9691\n",
            "Epoch 91/100\n",
            "268/268 [==============================] - 7s 25ms/step - loss: 0.0373 - AUC: 0.9983 - val_loss: 0.2883 - val_AUC: 0.9739\n",
            "Epoch 92/100\n",
            "268/268 [==============================] - 7s 25ms/step - loss: 0.0398 - AUC: 0.9984 - val_loss: 0.2427 - val_AUC: 0.9777\n",
            "Epoch 93/100\n",
            "268/268 [==============================] - 7s 25ms/step - loss: 0.0345 - AUC: 0.9986 - val_loss: 0.2271 - val_AUC: 0.9791\n",
            "Epoch 94/100\n",
            "268/268 [==============================] - 7s 25ms/step - loss: 0.0336 - AUC: 0.9987 - val_loss: 0.2757 - val_AUC: 0.9750\n",
            "Epoch 95/100\n",
            "268/268 [==============================] - 7s 25ms/step - loss: 0.0287 - AUC: 0.9987 - val_loss: 0.2498 - val_AUC: 0.9729\n",
            "Epoch 96/100\n",
            "268/268 [==============================] - 7s 25ms/step - loss: 0.0426 - AUC: 0.9983 - val_loss: 0.3252 - val_AUC: 0.9723\n",
            "Epoch 97/100\n",
            "268/268 [==============================] - 7s 25ms/step - loss: 0.0342 - AUC: 0.9985 - val_loss: 0.2533 - val_AUC: 0.9733\n"
          ]
        }
      ],
      "source": [
        "with tf.device(strategy):\n",
        "    model = build_model()\n",
        "\n",
        "    METRICS = [\n",
        "        tf.keras.metrics.AUC(name='AUC'),\n",
        "    ]\n",
        "    model.compile(\n",
        "        optimizer=tf.keras.optimizers.Adam(learning_rate=lr_schedule),\n",
        "        loss=\"binary_crossentropy\",\n",
        "        metrics=METRICS,\n",
        "    )\n",
        "\n",
        "history = model.fit(\n",
        "    train_ds,\n",
        "    epochs=100,\n",
        "    validation_data=val_ds,\n",
        "    #class_weight=class_weight,\n",
        "    callbacks=[checkpoint_cb, early_stopping_cb],\n",
        "  )"
      ]
    },
    {
      "cell_type": "code",
      "execution_count": 19,
      "metadata": {
        "id": "MXi5dC4wC238"
      },
      "outputs": [],
      "source": [
        "## Visualizing model performance"
      ]
    },
    {
      "cell_type": "code",
      "source": [
        "\n"
      ],
      "metadata": {
        "id": "muDkybZBZT26"
      },
      "execution_count": 19,
      "outputs": []
    },
    {
      "cell_type": "code",
      "execution_count": 21,
      "metadata": {
        "id": "H8dhDqIFC26T",
        "colab": {
          "base_uri": "https://localhost:8080/",
          "height": 226
        },
        "outputId": "b6b119b6-1bde-496b-cc63-f8a1e97d9d7f"
      },
      "outputs": [
        {
          "output_type": "display_data",
          "data": {
            "text/plain": [
              "<Figure size 1440x216 with 2 Axes>"
            ],
            "image/png": "[encoded data removed]"
          },
          "metadata": {
            "needs_background": "light"
          }
        }
      ],
      "source": [
        "fig, ax = plt.subplots(1, 2, figsize=(20, 3))\n",
        "ax = ax.ravel()\n",
        "\n",
        "for i, met in enumerate([\"AUC\", \"loss\"]):\n",
        "    ax[i].plot(history.history[met])\n",
        "    ax[i].plot(history.history[met])\n",
        "    ax[i].set_title(\"Model {}\".format(met))\n",
        "    ax[i].set_xlabel(\"epochs\")\n",
        "    ax[i].set_ylabel(met)\n",
        "    ax[i].legend([\"train\", \"val\"])"
      ]
    },
    {
      "cell_type": "code",
      "execution_count": 22,
      "metadata": {
        "id": "3K5ykcQeC28j"
      },
      "outputs": [],
      "source": [
        "### Predict and evaluate results"
      ]
    },
    {
      "cell_type": "code",
      "execution_count": 23,
      "metadata": {
        "id": "YdkbGWDbC2-8",
        "colab": {
          "base_uri": "https://localhost:8080/"
        },
        "outputId": "7e754c12-a9b7-4726-cefc-1edfc059f4cb"
      },
      "outputs": [
        {
          "output_type": "stream",
          "name": "stdout",
          "text": [
            "10/10 [==============================] - 2s 116ms/step - loss: 0.1100 - AUC: 0.9932\n"
          ]
        },
        {
          "output_type": "execute_result",
          "data": {
            "text/plain": [
              "{'loss': 0.11000128090381622, 'AUC': 0.9932039380073547}"
            ]
          },
          "metadata": {},
          "execution_count": 23
        }
      ],
      "source": [
        "model.evaluate(test_ds, return_dict=True)"
      ]
    },
    {
      "cell_type": "code",
      "source": [
        "#for image, label in test_ds.take(1):\n",
        "#  print(\"Image shape: \", image.numpy().shape)\n",
        "#  print(\"Label: \", label.numpy())"
      ],
      "metadata": {
        "id": "7BstWSZkVt5u"
      },
      "execution_count": 24,
      "outputs": []
    },
    {
      "cell_type": "code",
      "source": [
        "# imageId - same as the PNG filename\n",
        "# gender - 0 for female and 1 for male\n",
        "CLASS_NAMES = [\"FEMALE\", \"MALE\"]"
      ],
      "metadata": {
        "id": "DUHPD2L-WCeH"
      },
      "execution_count": 25,
      "outputs": []
    },
    {
      "cell_type": "code",
      "source": [
        "test = keras.preprocessing.image_dataset_from_directory(\n",
        "    \"/content/gdrive/MyDrive/xraytest\", \n",
        "    batch_size=32, \n",
        "    image_size=(img_height, img_width), shuffle=False\n",
        ")\n",
        "file_paths = test.file_paths\n",
        "test = test.cache().prefetch(buffer_size=AUTOTUNE)"
      ],
      "metadata": {
        "id": "szyA4-362BhQ",
        "colab": {
          "base_uri": "https://localhost:8080/"
        },
        "outputId": "3bcb25aa-b861-4722-e7bd-9dee54e0ac26"
      },
      "execution_count": 26,
      "outputs": [
        {
          "output_type": "stream",
          "name": "stdout",
          "text": [
            "Found 11747 files belonging to 1 classes.\n"
          ]
        }
      ]
    },
    {
      "cell_type": "code",
      "source": [
        "dict = {'imageId': file_paths}\n",
        "df = pd.DataFrame(dict)\n",
        "df['imageId'] = df.imageId.str.split('/').str[6]\n",
        "df['imageId'] = df.imageId.str.split('.').str[0]\n",
        "df['imageId'] = df['imageId'].astype(int)\n",
        "df.head()"
      ],
      "metadata": {
        "id": "XKLpn08_3TiD",
        "colab": {
          "base_uri": "https://localhost:8080/",
          "height": 206
        },
        "outputId": "78f60b58-914f-4c5a-c6f4-147ecf43d421"
      },
      "execution_count": 27,
      "outputs": [
        {
          "output_type": "execute_result",
          "data": {
            "text/plain": [
              "   imageId\n",
              "0        0\n",
              "1        1\n",
              "2        2\n",
              "3        3\n",
              "4        4"
            ],
            "text/html": [
              "\n",
              "  <div id=\"df-201e0133-5b6e-428c-8214-863716d19d1a\">\n",
              "    <div class=\"colab-df-container\">\n",
              "      <div>\n",
              "<style scoped>\n",
              "    .dataframe tbody tr th:only-of-type {\n",
              "        vertical-align: middle;\n",
              "    }\n",
              "\n",
              "    .dataframe tbody tr th {\n",
              "        vertical-align: top;\n",
              "    }\n",
              "\n",
              "    .dataframe thead th {\n",
              "        text-align: right;\n",
              "    }\n",
              "</style>\n",
              "<table border=\"1\" class=\"dataframe\">\n",
              "  <thead>\n",
              "    <tr style=\"text-align: right;\">\n",
              "      <th></th>\n",
              "      <th>imageId</th>\n",
              "    </tr>\n",
              "  </thead>\n",
              "  <tbody>\n",
              "    <tr>\n",
              "      <th>0</th>\n",
              "      <td>0</td>\n",
              "    </tr>\n",
              "    <tr>\n",
              "      <th>1</th>\n",
              "      <td>1</td>\n",
              "    </tr>\n",
              "    <tr>\n",
              "      <th>2</th>\n",
              "      <td>2</td>\n",
              "    </tr>\n",
              "    <tr>\n",
              "      <th>3</th>\n",
              "      <td>3</td>\n",
              "    </tr>\n",
              "    <tr>\n",
              "      <th>4</th>\n",
              "      <td>4</td>\n",
              "    </tr>\n",
              "  </tbody>\n",
              "</table>\n",
              "</div>\n",
              "      <button class=\"colab-df-convert\" onclick=\"convertToInteractive('df-201e0133-5b6e-428c-8214-863716d19d1a')\"\n",
              "              title=\"Convert this dataframe to an interactive table.\"\n",
              "              style=\"display:none;\">\n",
              "        \n",
              "  <svg xmlns=\"http://www.w3.org/2000/svg\" height=\"24px\"viewBox=\"0 0 24 24\"\n",
              "       width=\"24px\">\n",
              "    <path d=\"M0 0h24v24H0V0z\" fill=\"none\"/>\n",
              "    <path d=\"M18.56 5.44l.94 2.06.94-2.06 2.06-.94-2.06-.94-.94-2.06-.94 2.06-2.06.94zm-11 1L8.5 8.5l.94-2.06 2.06-.94-2.06-.94L8.5 2.5l-.94 2.06-2.06.94zm10 10l.94 2.06.94-2.06 2.06-.94-2.06-.94-.94-2.06-.94 2.06-2.06.94z\"/><path d=\"M17.41 7.96l-1.37-1.37c-.4-.4-.92-.59-1.43-.59-.52 0-1.04.2-1.43.59L10.3 9.45l-7.72 7.72c-.78.78-.78 2.05 0 2.83L4 21.41c.39.39.9.59 1.41.59.51 0 1.02-.2 1.41-.59l7.78-7.78 2.81-2.81c.8-.78.8-2.07 0-2.86zM5.41 20L4 18.59l7.72-7.72 1.47 1.35L5.41 20z\"/>\n",
              "  </svg>\n",
              "      </button>\n",
              "      \n",
              "  <style>\n",
              "    .colab-df-container {\n",
              "      display:flex;\n",
              "      flex-wrap:wrap;\n",
              "      gap: 12px;\n",
              "    }\n",
              "\n",
              "    .colab-df-convert {\n",
              "      background-color: #E8F0FE;\n",
              "      border: none;\n",
              "      border-radius: 50%;\n",
              "      cursor: pointer;\n",
              "      display: none;\n",
              "      fill: #1967D2;\n",
              "      height: 32px;\n",
              "      padding: 0 0 0 0;\n",
              "      width: 32px;\n",
              "    }\n",
              "\n",
              "    .colab-df-convert:hover {\n",
              "      background-color: #E2EBFA;\n",
              "      box-shadow: 0px 1px 2px rgba(60, 64, 67, 0.3), 0px 1px 3px 1px rgba(60, 64, 67, 0.15);\n",
              "      fill: #174EA6;\n",
              "    }\n",
              "\n",
              "    [theme=dark] .colab-df-convert {\n",
              "      background-color: #3B4455;\n",
              "      fill: #D2E3FC;\n",
              "    }\n",
              "\n",
              "    [theme=dark] .colab-df-convert:hover {\n",
              "      background-color: #434B5C;\n",
              "      box-shadow: 0px 1px 3px 1px rgba(0, 0, 0, 0.15);\n",
              "      filter: drop-shadow(0px 1px 2px rgba(0, 0, 0, 0.3));\n",
              "      fill: #FFFFFF;\n",
              "    }\n",
              "  </style>\n",
              "\n",
              "      <script>\n",
              "        const buttonEl =\n",
              "          document.querySelector('#df-201e0133-5b6e-428c-8214-863716d19d1a button.colab-df-convert');\n",
              "        buttonEl.style.display =\n",
              "          google.colab.kernel.accessAllowed ? 'block' : 'none';\n",
              "\n",
              "        async function convertToInteractive(key) {\n",
              "          const element = document.querySelector('#df-201e0133-5b6e-428c-8214-863716d19d1a');\n",
              "          const dataTable =\n",
              "            await google.colab.kernel.invokeFunction('convertToInteractive',\n",
              "                                                     [key], {});\n",
              "          if (!dataTable) return;\n",
              "\n",
              "          const docLinkHtml = 'Like what you see? Visit the ' +\n",
              "            '<a target=\"_blank\" href=https://colab.research.google.com/notebooks/data_table.ipynb>data table notebook</a>'\n",
              "            + ' to learn more about interactive tables.';\n",
              "          element.innerHTML = '';\n",
              "          dataTable['output_type'] = 'display_data';\n",
              "          await google.colab.output.renderOutput(dataTable, element);\n",
              "          const docLink = document.createElement('div');\n",
              "          docLink.innerHTML = docLinkHtml;\n",
              "          element.appendChild(docLink);\n",
              "        }\n",
              "      </script>\n",
              "    </div>\n",
              "  </div>\n",
              "  "
            ]
          },
          "metadata": {},
          "execution_count": 27
        }
      ]
    },
    {
      "cell_type": "code",
      "source": [
        "preds = model.predict(test, batch_size=batch_size)\n",
        "#preds = preds.round(2)\n",
        "preds = np.squeeze(preds)"
      ],
      "metadata": {
        "id": "cTZaCmKZey4v",
        "colab": {
          "base_uri": "https://localhost:8080/"
        },
        "outputId": "cdf35ed6-17c5-4c4f-ee7f-ec3ec2e30c49"
      },
      "execution_count": 28,
      "outputs": [
        {
          "output_type": "stream",
          "name": "stdout",
          "text": [
            "368/368 [==============================] - 754s 2s/step\n"
          ]
        }
      ]
    },
    {
      "cell_type": "code",
      "source": [
        "df['gender'] = preds"
      ],
      "metadata": {
        "id": "BSZXW-Y4_Rfz"
      },
      "execution_count": 29,
      "outputs": []
    },
    {
      "cell_type": "code",
      "source": [
        "df.head()"
      ],
      "metadata": {
        "colab": {
          "base_uri": "https://localhost:8080/",
          "height": 206
        },
        "id": "b8nsoSxBltdW",
        "outputId": "dee0bcad-9dbf-419c-eb7a-852b1169c5c1"
      },
      "execution_count": 30,
      "outputs": [
        {
          "output_type": "execute_result",
          "data": {
            "text/plain": [
              "   imageId    gender\n",
              "0        0  0.768106\n",
              "1        1  0.008622\n",
              "2        2  0.998439\n",
              "3        3  0.006314\n",
              "4        4  0.816272"
            ],
            "text/html": [
              "\n",
              "  <div id=\"df-41ee36dc-56fb-4a4c-8877-3d43696b8841\">\n",
              "    <div class=\"colab-df-container\">\n",
              "      <div>\n",
              "<style scoped>\n",
              "    .dataframe tbody tr th:only-of-type {\n",
              "        vertical-align: middle;\n",
              "    }\n",
              "\n",
              "    .dataframe tbody tr th {\n",
              "        vertical-align: top;\n",
              "    }\n",
              "\n",
              "    .dataframe thead th {\n",
              "        text-align: right;\n",
              "    }\n",
              "</style>\n",
              "<table border=\"1\" class=\"dataframe\">\n",
              "  <thead>\n",
              "    <tr style=\"text-align: right;\">\n",
              "      <th></th>\n",
              "      <th>imageId</th>\n",
              "      <th>gender</th>\n",
              "    </tr>\n",
              "  </thead>\n",
              "  <tbody>\n",
              "    <tr>\n",
              "      <th>0</th>\n",
              "      <td>0</td>\n",
              "      <td>0.768106</td>\n",
              "    </tr>\n",
              "    <tr>\n",
              "      <th>1</th>\n",
              "      <td>1</td>\n",
              "      <td>0.008622</td>\n",
              "    </tr>\n",
              "    <tr>\n",
              "      <th>2</th>\n",
              "      <td>2</td>\n",
              "      <td>0.998439</td>\n",
              "    </tr>\n",
              "    <tr>\n",
              "      <th>3</th>\n",
              "      <td>3</td>\n",
              "      <td>0.006314</td>\n",
              "    </tr>\n",
              "    <tr>\n",
              "      <th>4</th>\n",
              "      <td>4</td>\n",
              "      <td>0.816272</td>\n",
              "    </tr>\n",
              "  </tbody>\n",
              "</table>\n",
              "</div>\n",
              "      <button class=\"colab-df-convert\" onclick=\"convertToInteractive('df-41ee36dc-56fb-4a4c-8877-3d43696b8841')\"\n",
              "              title=\"Convert this dataframe to an interactive table.\"\n",
              "              style=\"display:none;\">\n",
              "        \n",
              "  <svg xmlns=\"http://www.w3.org/2000/svg\" height=\"24px\"viewBox=\"0 0 24 24\"\n",
              "       width=\"24px\">\n",
              "    <path d=\"M0 0h24v24H0V0z\" fill=\"none\"/>\n",
              "    <path d=\"M18.56 5.44l.94 2.06.94-2.06 2.06-.94-2.06-.94-.94-2.06-.94 2.06-2.06.94zm-11 1L8.5 8.5l.94-2.06 2.06-.94-2.06-.94L8.5 2.5l-.94 2.06-2.06.94zm10 10l.94 2.06.94-2.06 2.06-.94-2.06-.94-.94-2.06-.94 2.06-2.06.94z\"/><path d=\"M17.41 7.96l-1.37-1.37c-.4-.4-.92-.59-1.43-.59-.52 0-1.04.2-1.43.59L10.3 9.45l-7.72 7.72c-.78.78-.78 2.05 0 2.83L4 21.41c.39.39.9.59 1.41.59.51 0 1.02-.2 1.41-.59l7.78-7.78 2.81-2.81c.8-.78.8-2.07 0-2.86zM5.41 20L4 18.59l7.72-7.72 1.47 1.35L5.41 20z\"/>\n",
              "  </svg>\n",
              "      </button>\n",
              "      \n",
              "  <style>\n",
              "    .colab-df-container {\n",
              "      display:flex;\n",
              "      flex-wrap:wrap;\n",
              "      gap: 12px;\n",
              "    }\n",
              "\n",
              "    .colab-df-convert {\n",
              "      background-color: #E8F0FE;\n",
              "      border: none;\n",
              "      border-radius: 50%;\n",
              "      cursor: pointer;\n",
              "      display: none;\n",
              "      fill: #1967D2;\n",
              "      height: 32px;\n",
              "      padding: 0 0 0 0;\n",
              "      width: 32px;\n",
              "    }\n",
              "\n",
              "    .colab-df-convert:hover {\n",
              "      background-color: #E2EBFA;\n",
              "      box-shadow: 0px 1px 2px rgba(60, 64, 67, 0.3), 0px 1px 3px 1px rgba(60, 64, 67, 0.15);\n",
              "      fill: #174EA6;\n",
              "    }\n",
              "\n",
              "    [theme=dark] .colab-df-convert {\n",
              "      background-color: #3B4455;\n",
              "      fill: #D2E3FC;\n",
              "    }\n",
              "\n",
              "    [theme=dark] .colab-df-convert:hover {\n",
              "      background-color: #434B5C;\n",
              "      box-shadow: 0px 1px 3px 1px rgba(0, 0, 0, 0.15);\n",
              "      filter: drop-shadow(0px 1px 2px rgba(0, 0, 0, 0.3));\n",
              "      fill: #FFFFFF;\n",
              "    }\n",
              "  </style>\n",
              "\n",
              "      <script>\n",
              "        const buttonEl =\n",
              "          document.querySelector('#df-41ee36dc-56fb-4a4c-8877-3d43696b8841 button.colab-df-convert');\n",
              "        buttonEl.style.display =\n",
              "          google.colab.kernel.accessAllowed ? 'block' : 'none';\n",
              "\n",
              "        async function convertToInteractive(key) {\n",
              "          const element = document.querySelector('#df-41ee36dc-56fb-4a4c-8877-3d43696b8841');\n",
              "          const dataTable =\n",
              "            await google.colab.kernel.invokeFunction('convertToInteractive',\n",
              "                                                     [key], {});\n",
              "          if (!dataTable) return;\n",
              "\n",
              "          const docLinkHtml = 'Like what you see? Visit the ' +\n",
              "            '<a target=\"_blank\" href=https://colab.research.google.com/notebooks/data_table.ipynb>data table notebook</a>'\n",
              "            + ' to learn more about interactive tables.';\n",
              "          element.innerHTML = '';\n",
              "          dataTable['output_type'] = 'display_data';\n",
              "          await google.colab.output.renderOutput(dataTable, element);\n",
              "          const docLink = document.createElement('div');\n",
              "          docLink.innerHTML = docLinkHtml;\n",
              "          element.appendChild(docLink);\n",
              "        }\n",
              "      </script>\n",
              "    </div>\n",
              "  </div>\n",
              "  "
            ]
          },
          "metadata": {},
          "execution_count": 30
        }
      ]
    },
    {
      "cell_type": "code",
      "source": [
        "def label_classes(pred_probs, threshold=0.5):\n",
        "    \"\"\"\n",
        "    Takes in a list of predicted probabilities and returns a list of class labels.\n",
        "    The class labels are determined by comparing each probability to a threshold value.\n",
        "    If the probability is greater than or equal to the threshold, the label is 1. Otherwise, it is 0.\n",
        "    Args:\n",
        "        pred_probs (list): A list of predicted probabilities.\n",
        "        threshold (float): The probability threshold for determining the class label. Default is 0.5.\n",
        "    Returns:\n",
        "        A list of class labels (0 or 1) corresponding to each predicted probability.\n",
        "    \"\"\"\n",
        "    class_labels = []\n",
        "    for prob in pred_probs:\n",
        "        if prob >= threshold:\n",
        "            class_labels.append(1)\n",
        "        else:\n",
        "            class_labels.append(0)\n",
        "    return class_labels\n",
        "\n",
        "df['gender'] = label_classes(df['gender'], threshold=0.5)"
      ],
      "metadata": {
        "id": "VtEZzTjnBJAL"
      },
      "execution_count": 31,
      "outputs": []
    },
    {
      "cell_type": "code",
      "source": [
        "df.to_csv('/content/gdrive/MyDrive/submission_gender.csv', index=False)"
      ],
      "metadata": {
        "id": "AEN37B4NAori"
      },
      "execution_count": 32,
      "outputs": []
    },
    {
      "cell_type": "code",
      "source": [
        "df.head()"
      ],
      "metadata": {
        "colab": {
          "base_uri": "https://localhost:8080/",
          "height": 206
        },
        "id": "D0yKdmhLZsb3",
        "outputId": "f633559d-a9ed-40e1-d431-3de058b37d9d"
      },
      "execution_count": 33,
      "outputs": [
        {
          "output_type": "execute_result",
          "data": {
            "text/plain": [
              "   imageId  gender\n",
              "0        0       1\n",
              "1        1       0\n",
              "2        2       1\n",
              "3        3       0\n",
              "4        4       1"
            ],
            "text/html": [
              "\n",
              "  <div id=\"df-bd22d89d-611f-4412-a739-4a0c8c814450\">\n",
              "    <div class=\"colab-df-container\">\n",
              "      <div>\n",
              "<style scoped>\n",
              "    .dataframe tbody tr th:only-of-type {\n",
              "        vertical-align: middle;\n",
              "    }\n",
              "\n",
              "    .dataframe tbody tr th {\n",
              "        vertical-align: top;\n",
              "    }\n",
              "\n",
              "    .dataframe thead th {\n",
              "        text-align: right;\n",
              "    }\n",
              "</style>\n",
              "<table border=\"1\" class=\"dataframe\">\n",
              "  <thead>\n",
              "    <tr style=\"text-align: right;\">\n",
              "      <th></th>\n",
              "      <th>imageId</th>\n",
              "      <th>gender</th>\n",
              "    </tr>\n",
              "  </thead>\n",
              "  <tbody>\n",
              "    <tr>\n",
              "      <th>0</th>\n",
              "      <td>0</td>\n",
              "      <td>1</td>\n",
              "    </tr>\n",
              "    <tr>\n",
              "      <th>1</th>\n",
              "      <td>1</td>\n",
              "      <td>0</td>\n",
              "    </tr>\n",
              "    <tr>\n",
              "      <th>2</th>\n",
              "      <td>2</td>\n",
              "      <td>1</td>\n",
              "    </tr>\n",
              "    <tr>\n",
              "      <th>3</th>\n",
              "      <td>3</td>\n",
              "      <td>0</td>\n",
              "    </tr>\n",
              "    <tr>\n",
              "      <th>4</th>\n",
              "      <td>4</td>\n",
              "      <td>1</td>\n",
              "    </tr>\n",
              "  </tbody>\n",
              "</table>\n",
              "</div>\n",
              "      <button class=\"colab-df-convert\" onclick=\"convertToInteractive('df-bd22d89d-611f-4412-a739-4a0c8c814450')\"\n",
              "              title=\"Convert this dataframe to an interactive table.\"\n",
              "              style=\"display:none;\">\n",
              "        \n",
              "  <svg xmlns=\"http://www.w3.org/2000/svg\" height=\"24px\"viewBox=\"0 0 24 24\"\n",
              "       width=\"24px\">\n",
              "    <path d=\"M0 0h24v24H0V0z\" fill=\"none\"/>\n",
              "    <path d=\"M18.56 5.44l.94 2.06.94-2.06 2.06-.94-2.06-.94-.94-2.06-.94 2.06-2.06.94zm-11 1L8.5 8.5l.94-2.06 2.06-.94-2.06-.94L8.5 2.5l-.94 2.06-2.06.94zm10 10l.94 2.06.94-2.06 2.06-.94-2.06-.94-.94-2.06-.94 2.06-2.06.94z\"/><path d=\"M17.41 7.96l-1.37-1.37c-.4-.4-.92-.59-1.43-.59-.52 0-1.04.2-1.43.59L10.3 9.45l-7.72 7.72c-.78.78-.78 2.05 0 2.83L4 21.41c.39.39.9.59 1.41.59.51 0 1.02-.2 1.41-.59l7.78-7.78 2.81-2.81c.8-.78.8-2.07 0-2.86zM5.41 20L4 18.59l7.72-7.72 1.47 1.35L5.41 20z\"/>\n",
              "  </svg>\n",
              "      </button>\n",
              "      \n",
              "  <style>\n",
              "    .colab-df-container {\n",
              "      display:flex;\n",
              "      flex-wrap:wrap;\n",
              "      gap: 12px;\n",
              "    }\n",
              "\n",
              "    .colab-df-convert {\n",
              "      background-color: #E8F0FE;\n",
              "      border: none;\n",
              "      border-radius: 50%;\n",
              "      cursor: pointer;\n",
              "      display: none;\n",
              "      fill: #1967D2;\n",
              "      height: 32px;\n",
              "      padding: 0 0 0 0;\n",
              "      width: 32px;\n",
              "    }\n",
              "\n",
              "    .colab-df-convert:hover {\n",
              "      background-color: #E2EBFA;\n",
              "      box-shadow: 0px 1px 2px rgba(60, 64, 67, 0.3), 0px 1px 3px 1px rgba(60, 64, 67, 0.15);\n",
              "      fill: #174EA6;\n",
              "    }\n",
              "\n",
              "    [theme=dark] .colab-df-convert {\n",
              "      background-color: #3B4455;\n",
              "      fill: #D2E3FC;\n",
              "    }\n",
              "\n",
              "    [theme=dark] .colab-df-convert:hover {\n",
              "      background-color: #434B5C;\n",
              "      box-shadow: 0px 1px 3px 1px rgba(0, 0, 0, 0.15);\n",
              "      filter: drop-shadow(0px 1px 2px rgba(0, 0, 0, 0.3));\n",
              "      fill: #FFFFFF;\n",
              "    }\n",
              "  </style>\n",
              "\n",
              "      <script>\n",
              "        const buttonEl =\n",
              "          document.querySelector('#df-bd22d89d-611f-4412-a739-4a0c8c814450 button.colab-df-convert');\n",
              "        buttonEl.style.display =\n",
              "          google.colab.kernel.accessAllowed ? 'block' : 'none';\n",
              "\n",
              "        async function convertToInteractive(key) {\n",
              "          const element = document.querySelector('#df-bd22d89d-611f-4412-a739-4a0c8c814450');\n",
              "          const dataTable =\n",
              "            await google.colab.kernel.invokeFunction('convertToInteractive',\n",
              "                                                     [key], {});\n",
              "          if (!dataTable) return;\n",
              "\n",
              "          const docLinkHtml = 'Like what you see? Visit the ' +\n",
              "            '<a target=\"_blank\" href=https://colab.research.google.com/notebooks/data_table.ipynb>data table notebook</a>'\n",
              "            + ' to learn more about interactive tables.';\n",
              "          element.innerHTML = '';\n",
              "          dataTable['output_type'] = 'display_data';\n",
              "          await google.colab.output.renderOutput(dataTable, element);\n",
              "          const docLink = document.createElement('div');\n",
              "          docLink.innerHTML = docLinkHtml;\n",
              "          element.appendChild(docLink);\n",
              "        }\n",
              "      </script>\n",
              "    </div>\n",
              "  </div>\n",
              "  "
            ]
          },
          "metadata": {},
          "execution_count": 33
        }
      ]
    },
    {
      "cell_type": "code",
      "execution_count": null,
      "metadata": {
        "id": "NyGMVDy9C3Ax"
      },
      "outputs": [],
      "source": [
        "for image, label in test.take(1):\n",
        "  for j in range(0,30):\n",
        "    prediction = model.predict(test_ds.take(1))[j]\n",
        "    scores = [1 - prediction, prediction]\n",
        "    for score, name in zip(scores, CLASS_NAMES):\n",
        "        print(\"This image is %.2f percent %s\" % ((100 * score), name))\n",
        "    plt.imshow(image[j] / 255.0)\n",
        "    plt.title(CLASS_NAMES[label[j].numpy()])\n",
        "    plt.show()"
      ]
    },
    {
      "cell_type": "code",
      "execution_count": null,
      "metadata": {
        "id": "roXBSlQiC3Ea"
      },
      "outputs": [],
      "source": []
    }
  ],
  "metadata": {
    "colab": {
      "provenance": [],
      "machine_shape": "hm"
    },
    "kernelspec": {
      "display_name": "Python 3",
      "name": "python3"
    },
    "language_info": {
      "name": "python"
    },
    "accelerator": "GPU",
    "gpuClass": "premium"
  },
  "nbformat": 4,
  "nbformat_minor": 0
}